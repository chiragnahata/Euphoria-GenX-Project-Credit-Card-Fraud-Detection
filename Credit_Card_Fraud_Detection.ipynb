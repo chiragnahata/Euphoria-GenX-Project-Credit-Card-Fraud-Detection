{
  "nbformat": 4,
  "nbformat_minor": 0,
  "metadata": {
    "colab": {
      "provenance": []
    },
    "kernelspec": {
      "name": "python3",
      "display_name": "Python 3"
    },
    "language_info": {
      "name": "python"
    }
  },
  "cells": [
    {
      "cell_type": "markdown",
      "metadata": {
        "id": "eb0be240"
      },
      "source": [
        "# Credit Card Fraud Detection Project\n",
        "\n",
        "This notebook demonstrates a credit card fraud detection model using the provided dataset. The process includes data loading, preprocessing, model training, evaluation, and generating files for potential deployment."
      ]
    },
    {
      "cell_type": "code",
      "metadata": {
        "id": "719b2032"
      },
      "source": [
        "# ---------- Install necessary packages ----------\n",
        "!pip install -q kaggle imbalanced-learn xgboost joblib shap matplotlib seaborn flask"
      ],
      "execution_count": null,
      "outputs": []
    },
    {
      "cell_type": "markdown",
      "metadata": {
        "id": "90ea659f"
      },
      "source": [
        "## Data Loading\n",
        "\n",
        "### Objective:\n",
        "Load the credit card transaction data from Google Drive."
      ]
    },
    {
      "cell_type": "markdown",
      "metadata": {
        "id": "b06d341e"
      },
      "source": [
        "**Explanation**:\n",
        "We will mount Google Drive to access the dataset stored in a specified folder. The dataset will be loaded into a pandas DataFrame for further processing."
      ]
    },
    {
      "cell_type": "code",
      "metadata": {
        "colab": {
          "base_uri": "https://localhost:8080/",
          "height": 291
        },
        "id": "ba55c580",
        "outputId": "c4d6e3f9-022c-4961-f85a-bbc8b9ff5c28"
      },
      "source": [
        "# ---------- Mount Google Drive ----------\n",
        "from google.colab import drive\n",
        "drive.mount('/content/drive')\n",
        "\n",
        "# Define the target directory in Google Drive where the dataset is located\n",
        "drive_output_dir = '/content/drive/MyDrive/Euphoria GenX Project (Credit Card Fraud Detection)'\n",
        "import os # Import os here\n",
        "os.makedirs(drive_output_dir, exist_ok=True) # Create the directory if it doesn't exist\n",
        "\n",
        "# ---------- Load dataset from Google Drive ----------\n",
        "import pandas as pd\n",
        "path = os.path.join(drive_output_dir, 'creditcard.csv')\n",
        "if not os.path.exists(path):\n",
        "    raise FileNotFoundError(\"creditcard.csv not found at the specified Google Drive path. Make sure you have mounted your drive and the path is correct.\")\n",
        "df = pd.read_csv(path)\n",
        "print(\"Loaded\", df.shape, \"rows\")\n",
        "display(df.head())"
      ],
      "execution_count": null,
      "outputs": [
        {
          "output_type": "stream",
          "name": "stdout",
          "text": [
            "Drive already mounted at /content/drive; to attempt to forcibly remount, call drive.mount(\"/content/drive\", force_remount=True).\n",
            "Loaded (284807, 31) rows\n"
          ]
        },
        {
          "output_type": "display_data",
          "data": {
            "text/plain": [
              "   Time        V1        V2        V3        V4        V5        V6        V7  \\\n",
              "0   0.0 -1.359807 -0.072781  2.536347  1.378155 -0.338321  0.462388  0.239599   \n",
              "1   0.0  1.191857  0.266151  0.166480  0.448154  0.060018 -0.082361 -0.078803   \n",
              "2   1.0 -1.358354 -1.340163  1.773209  0.379780 -0.503198  1.800499  0.791461   \n",
              "3   1.0 -0.966272 -0.185226  1.792993 -0.863291 -0.010309  1.247203  0.237609   \n",
              "4   2.0 -1.158233  0.877737  1.548718  0.403034 -0.407193  0.095921  0.592941   \n",
              "\n",
              "         V8        V9  ...       V21       V22       V23       V24       V25  \\\n",
              "0  0.098698  0.363787  ... -0.018307  0.277838 -0.110474  0.066928  0.128539   \n",
              "1  0.085102 -0.255425  ... -0.225775 -0.638672  0.101288 -0.339846  0.167170   \n",
              "2  0.247676 -1.514654  ...  0.247998  0.771679  0.909412 -0.689281 -0.327642   \n",
              "3  0.377436 -1.387024  ... -0.108300  0.005274 -0.190321 -1.175575  0.647376   \n",
              "4 -0.270533  0.817739  ... -0.009431  0.798278 -0.137458  0.141267 -0.206010   \n",
              "\n",
              "        V26       V27       V28  Amount  Class  \n",
              "0 -0.189115  0.133558 -0.021053  149.62      0  \n",
              "1  0.125895 -0.008983  0.014724    2.69      0  \n",
              "2 -0.139097 -0.055353 -0.059752  378.66      0  \n",
              "3 -0.221929  0.062723  0.061458  123.50      0  \n",
              "4  0.502292  0.219422  0.215153   69.99      0  \n",
              "\n",
              "[5 rows x 31 columns]"
            ],
            "text/html": [
              "\n",
              "  <div id=\"df-84a6fb36-a6ce-4bed-9bbf-723d2e6ca23e\" class=\"colab-df-container\">\n",
              "    <div>\n",
              "<style scoped>\n",
              "    .dataframe tbody tr th:only-of-type {\n",
              "        vertical-align: middle;\n",
              "    }\n",
              "\n",
              "    .dataframe tbody tr th {\n",
              "        vertical-align: top;\n",
              "    }\n",
              "\n",
              "    .dataframe thead th {\n",
              "        text-align: right;\n",
              "    }\n",
              "</style>\n",
              "<table border=\"1\" class=\"dataframe\">\n",
              "  <thead>\n",
              "    <tr style=\"text-align: right;\">\n",
              "      <th></th>\n",
              "      <th>Time</th>\n",
              "      <th>V1</th>\n",
              "      <th>V2</th>\n",
              "      <th>V3</th>\n",
              "      <th>V4</th>\n",
              "      <th>V5</th>\n",
              "      <th>V6</th>\n",
              "      <th>V7</th>\n",
              "      <th>V8</th>\n",
              "      <th>V9</th>\n",
              "      <th>...</th>\n",
              "      <th>V21</th>\n",
              "      <th>V22</th>\n",
              "      <th>V23</th>\n",
              "      <th>V24</th>\n",
              "      <th>V25</th>\n",
              "      <th>V26</th>\n",
              "      <th>V27</th>\n",
              "      <th>V28</th>\n",
              "      <th>Amount</th>\n",
              "      <th>Class</th>\n",
              "    </tr>\n",
              "  </thead>\n",
              "  <tbody>\n",
              "    <tr>\n",
              "      <th>0</th>\n",
              "      <td>0.0</td>\n",
              "      <td>-1.359807</td>\n",
              "      <td>-0.072781</td>\n",
              "      <td>2.536347</td>\n",
              "      <td>1.378155</td>\n",
              "      <td>-0.338321</td>\n",
              "      <td>0.462388</td>\n",
              "      <td>0.239599</td>\n",
              "      <td>0.098698</td>\n",
              "      <td>0.363787</td>\n",
              "      <td>...</td>\n",
              "      <td>-0.018307</td>\n",
              "      <td>0.277838</td>\n",
              "      <td>-0.110474</td>\n",
              "      <td>0.066928</td>\n",
              "      <td>0.128539</td>\n",
              "      <td>-0.189115</td>\n",
              "      <td>0.133558</td>\n",
              "      <td>-0.021053</td>\n",
              "      <td>149.62</td>\n",
              "      <td>0</td>\n",
              "    </tr>\n",
              "    <tr>\n",
              "      <th>1</th>\n",
              "      <td>0.0</td>\n",
              "      <td>1.191857</td>\n",
              "      <td>0.266151</td>\n",
              "      <td>0.166480</td>\n",
              "      <td>0.448154</td>\n",
              "      <td>0.060018</td>\n",
              "      <td>-0.082361</td>\n",
              "      <td>-0.078803</td>\n",
              "      <td>0.085102</td>\n",
              "      <td>-0.255425</td>\n",
              "      <td>...</td>\n",
              "      <td>-0.225775</td>\n",
              "      <td>-0.638672</td>\n",
              "      <td>0.101288</td>\n",
              "      <td>-0.339846</td>\n",
              "      <td>0.167170</td>\n",
              "      <td>0.125895</td>\n",
              "      <td>-0.008983</td>\n",
              "      <td>0.014724</td>\n",
              "      <td>2.69</td>\n",
              "      <td>0</td>\n",
              "    </tr>\n",
              "    <tr>\n",
              "      <th>2</th>\n",
              "      <td>1.0</td>\n",
              "      <td>-1.358354</td>\n",
              "      <td>-1.340163</td>\n",
              "      <td>1.773209</td>\n",
              "      <td>0.379780</td>\n",
              "      <td>-0.503198</td>\n",
              "      <td>1.800499</td>\n",
              "      <td>0.791461</td>\n",
              "      <td>0.247676</td>\n",
              "      <td>-1.514654</td>\n",
              "      <td>...</td>\n",
              "      <td>0.247998</td>\n",
              "      <td>0.771679</td>\n",
              "      <td>0.909412</td>\n",
              "      <td>-0.689281</td>\n",
              "      <td>-0.327642</td>\n",
              "      <td>-0.139097</td>\n",
              "      <td>-0.055353</td>\n",
              "      <td>-0.059752</td>\n",
              "      <td>378.66</td>\n",
              "      <td>0</td>\n",
              "    </tr>\n",
              "    <tr>\n",
              "      <th>3</th>\n",
              "      <td>1.0</td>\n",
              "      <td>-0.966272</td>\n",
              "      <td>-0.185226</td>\n",
              "      <td>1.792993</td>\n",
              "      <td>-0.863291</td>\n",
              "      <td>-0.010309</td>\n",
              "      <td>1.247203</td>\n",
              "      <td>0.237609</td>\n",
              "      <td>0.377436</td>\n",
              "      <td>-1.387024</td>\n",
              "      <td>...</td>\n",
              "      <td>-0.108300</td>\n",
              "      <td>0.005274</td>\n",
              "      <td>-0.190321</td>\n",
              "      <td>-1.175575</td>\n",
              "      <td>0.647376</td>\n",
              "      <td>-0.221929</td>\n",
              "      <td>0.062723</td>\n",
              "      <td>0.061458</td>\n",
              "      <td>123.50</td>\n",
              "      <td>0</td>\n",
              "    </tr>\n",
              "    <tr>\n",
              "      <th>4</th>\n",
              "      <td>2.0</td>\n",
              "      <td>-1.158233</td>\n",
              "      <td>0.877737</td>\n",
              "      <td>1.548718</td>\n",
              "      <td>0.403034</td>\n",
              "      <td>-0.407193</td>\n",
              "      <td>0.095921</td>\n",
              "      <td>0.592941</td>\n",
              "      <td>-0.270533</td>\n",
              "      <td>0.817739</td>\n",
              "      <td>...</td>\n",
              "      <td>-0.009431</td>\n",
              "      <td>0.798278</td>\n",
              "      <td>-0.137458</td>\n",
              "      <td>0.141267</td>\n",
              "      <td>-0.206010</td>\n",
              "      <td>0.502292</td>\n",
              "      <td>0.219422</td>\n",
              "      <td>0.215153</td>\n",
              "      <td>69.99</td>\n",
              "      <td>0</td>\n",
              "    </tr>\n",
              "  </tbody>\n",
              "</table>\n",
              "<p>5 rows × 31 columns</p>\n",
              "</div>\n",
              "    <div class=\"colab-df-buttons\">\n",
              "\n",
              "  <div class=\"colab-df-container\">\n",
              "    <button class=\"colab-df-convert\" onclick=\"convertToInteractive('df-84a6fb36-a6ce-4bed-9bbf-723d2e6ca23e')\"\n",
              "            title=\"Convert this dataframe to an interactive table.\"\n",
              "            style=\"display:none;\">\n",
              "\n",
              "  <svg xmlns=\"http://www.w3.org/2000/svg\" height=\"24px\" viewBox=\"0 -960 960 960\">\n",
              "    <path d=\"M120-120v-720h720v720H120Zm60-500h600v-160H180v160Zm220 220h160v-160H400v160Zm0 220h160v-160H400v160ZM180-400h160v-160H180v160Zm440 0h160v-160H620v160ZM180-180h160v-160H180v160Zm440 0h160v-160H620v160Z\"/>\n",
              "  </svg>\n",
              "    </button>\n",
              "\n",
              "  <style>\n",
              "    .colab-df-container {\n",
              "      display:flex;\n",
              "      gap: 12px;\n",
              "    }\n",
              "\n",
              "    .colab-df-convert {\n",
              "      background-color: #E8F0FE;\n",
              "      border: none;\n",
              "      border-radius: 50%;\n",
              "      cursor: pointer;\n",
              "      display: none;\n",
              "      fill: #1967D2;\n",
              "      height: 32px;\n",
              "      padding: 0 0 0 0;\n",
              "      width: 32px;\n",
              "    }\n",
              "\n",
              "    .colab-df-convert:hover {\n",
              "      background-color: #E2EBFA;\n",
              "      box-shadow: 0px 1px 2px rgba(60, 64, 67, 0.3), 0px 1px 3px 1px rgba(60, 64, 67, 0.15);\n",
              "      fill: #174EA6;\n",
              "    }\n",
              "\n",
              "    .colab-df-buttons div {\n",
              "      margin-bottom: 4px;\n",
              "    }\n",
              "\n",
              "    [theme=dark] .colab-df-convert {\n",
              "      background-color: #3B4455;\n",
              "      fill: #D2E3FC;\n",
              "    }\n",
              "\n",
              "    [theme=dark] .colab-df-convert:hover {\n",
              "      background-color: #434B5C;\n",
              "      box-shadow: 0px 1px 3px 1px rgba(0, 0, 0, 0.15);\n",
              "      filter: drop-shadow(0px 1px 2px rgba(0, 0, 0, 0.3));\n",
              "      fill: #FFFFFF;\n",
              "    }\n",
              "  </style>\n",
              "\n",
              "    <script>\n",
              "      const buttonEl =\n",
              "        document.querySelector('#df-84a6fb36-a6ce-4bed-9bbf-723d2e6ca23e button.colab-df-convert');\n",
              "      buttonEl.style.display =\n",
              "        google.colab.kernel.accessAllowed ? 'block' : 'none';\n",
              "\n",
              "      async function convertToInteractive(key) {\n",
              "        const element = document.querySelector('#df-84a6fb36-a6ce-4bed-9bbf-723d2e6ca23e');\n",
              "        const dataTable =\n",
              "          await google.colab.kernel.invokeFunction('convertToInteractive',\n",
              "                                                    [key], {});\n",
              "        if (!dataTable) return;\n",
              "\n",
              "        const docLinkHtml = 'Like what you see? Visit the ' +\n",
              "          '<a target=\"_blank\" href=https://colab.research.google.com/notebooks/data_table.ipynb>data table notebook</a>'\n",
              "          + ' to learn more about interactive tables.';\n",
              "        element.innerHTML = '';\n",
              "        dataTable['output_type'] = 'display_data';\n",
              "        await google.colab.output.renderOutput(dataTable, element);\n",
              "        const docLink = document.createElement('div');\n",
              "        docLink.innerHTML = docLinkHtml;\n",
              "        element.appendChild(docLink);\n",
              "      }\n",
              "    </script>\n",
              "  </div>\n",
              "\n",
              "\n",
              "    <div id=\"df-316e974e-447d-4974-85f0-3e4484c8e650\">\n",
              "      <button class=\"colab-df-quickchart\" onclick=\"quickchart('df-316e974e-447d-4974-85f0-3e4484c8e650')\"\n",
              "                title=\"Suggest charts\"\n",
              "                style=\"display:none;\">\n",
              "\n",
              "<svg xmlns=\"http://www.w3.org/2000/svg\" height=\"24px\"viewBox=\"0 0 24 24\"\n",
              "     width=\"24px\">\n",
              "    <g>\n",
              "        <path d=\"M19 3H5c-1.1 0-2 .9-2 2v14c0 1.1.9 2 2 2h14c1.1 0 2-.9 2-2V5c0-1.1-.9-2-2-2zM9 17H7v-7h2v7zm4 0h-2V7h2v10zm4 0h-2v-4h2v4z\"/>\n",
              "    </g>\n",
              "</svg>\n",
              "      </button>\n",
              "\n",
              "<style>\n",
              "  .colab-df-quickchart {\n",
              "      --bg-color: #E8F0FE;\n",
              "      --fill-color: #1967D2;\n",
              "      --hover-bg-color: #E2EBFA;\n",
              "      --hover-fill-color: #174EA6;\n",
              "      --disabled-fill-color: #AAA;\n",
              "      --disabled-bg-color: #DDD;\n",
              "  }\n",
              "\n",
              "  [theme=dark] .colab-df-quickchart {\n",
              "      --bg-color: #3B4455;\n",
              "      --fill-color: #D2E3FC;\n",
              "      --hover-bg-color: #434B5C;\n",
              "      --hover-fill-color: #FFFFFF;\n",
              "      --disabled-bg-color: #3B4455;\n",
              "      --disabled-fill-color: #666;\n",
              "  }\n",
              "\n",
              "  .colab-df-quickchart {\n",
              "    background-color: var(--bg-color);\n",
              "    border: none;\n",
              "    border-radius: 50%;\n",
              "    cursor: pointer;\n",
              "    display: none;\n",
              "    fill: var(--fill-color);\n",
              "    height: 32px;\n",
              "    padding: 0;\n",
              "    width: 32px;\n",
              "  }\n",
              "\n",
              "  .colab-df-quickchart:hover {\n",
              "    background-color: var(--hover-bg-color);\n",
              "    box-shadow: 0 1px 2px rgba(60, 64, 67, 0.3), 0 1px 3px 1px rgba(60, 64, 67, 0.15);\n",
              "    fill: var(--button-hover-fill-color);\n",
              "  }\n",
              "\n",
              "  .colab-df-quickchart-complete:disabled,\n",
              "  .colab-df-quickchart-complete:disabled:hover {\n",
              "    background-color: var(--disabled-bg-color);\n",
              "    fill: var(--disabled-fill-color);\n",
              "    box-shadow: none;\n",
              "  }\n",
              "\n",
              "  .colab-df-spinner {\n",
              "    border: 2px solid var(--fill-color);\n",
              "    border-color: transparent;\n",
              "    border-bottom-color: var(--fill-color);\n",
              "    animation:\n",
              "      spin 1s steps(1) infinite;\n",
              "  }\n",
              "\n",
              "  @keyframes spin {\n",
              "    0% {\n",
              "      border-color: transparent;\n",
              "      border-bottom-color: var(--fill-color);\n",
              "      border-left-color: var(--fill-color);\n",
              "    }\n",
              "    20% {\n",
              "      border-color: transparent;\n",
              "      border-left-color: var(--fill-color);\n",
              "      border-top-color: var(--fill-color);\n",
              "    }\n",
              "    30% {\n",
              "      border-color: transparent;\n",
              "      border-left-color: var(--fill-color);\n",
              "      border-top-color: var(--fill-color);\n",
              "      border-right-color: var(--fill-color);\n",
              "    }\n",
              "    40% {\n",
              "      border-color: transparent;\n",
              "      border-right-color: var(--fill-color);\n",
              "      border-top-color: var(--fill-color);\n",
              "    }\n",
              "    60% {\n",
              "      border-color: transparent;\n",
              "      border-right-color: var(--fill-color);\n",
              "    }\n",
              "    80% {\n",
              "      border-color: transparent;\n",
              "      border-right-color: var(--fill-color);\n",
              "      border-bottom-color: var(--fill-color);\n",
              "    }\n",
              "    90% {\n",
              "      border-color: transparent;\n",
              "      border-bottom-color: var(--fill-color);\n",
              "    }\n",
              "  }\n",
              "</style>\n",
              "\n",
              "      <script>\n",
              "        async function quickchart(key) {\n",
              "          const quickchartButtonEl =\n",
              "            document.querySelector('#' + key + ' button');\n",
              "          quickchartButtonEl.disabled = true;  // To prevent multiple clicks.\n",
              "          quickchartButtonEl.classList.add('colab-df-spinner');\n",
              "          try {\n",
              "            const charts = await google.colab.kernel.invokeFunction(\n",
              "                'suggestCharts', [key], {});\n",
              "          } catch (error) {\n",
              "            console.error('Error during call to suggestCharts:', error);\n",
              "          }\n",
              "          quickchartButtonEl.classList.remove('colab-df-spinner');\n",
              "          quickchartButtonEl.classList.add('colab-df-quickchart-complete');\n",
              "        }\n",
              "        (() => {\n",
              "          let quickchartButtonEl =\n",
              "            document.querySelector('#df-316e974e-447d-4974-85f0-3e4484c8e650 button');\n",
              "          quickchartButtonEl.style.display =\n",
              "            google.colab.kernel.accessAllowed ? 'block' : 'none';\n",
              "        })();\n",
              "      </script>\n",
              "    </div>\n",
              "\n",
              "    </div>\n",
              "  </div>\n"
            ],
            "application/vnd.google.colaboratory.intrinsic+json": {
              "type": "dataframe"
            }
          },
          "metadata": {}
        }
      ]
    },
    {
      "cell_type": "markdown",
      "metadata": {
        "id": "f7195c45"
      },
      "source": [
        "## Data Preprocessing and Splitting\n",
        "\n",
        "### Objective:\n",
        "Prepare the data for model training by handling missing values, scaling features, and splitting the data into training and testing sets. Address class imbalance using SMOTE."
      ]
    },
    {
      "cell_type": "markdown",
      "metadata": {
        "id": "9d635203"
      },
      "source": [
        "**Explanation**:\n",
        "We will perform the following preprocessing steps:\n",
        "1. Drop rows with missing values in the 'Class' column.\n",
        "2. Scale the 'Time' and 'Amount' features using StandardScaler.\n",
        "3. Split the data into training and testing sets while maintaining the original class distribution (stratified split).\n",
        "4. Apply SMOTE (Synthetic Minority Over-sampling Technique) to the training data to handle the class imbalance issue."
      ]
    },
    {
      "cell_type": "code",
      "metadata": {
        "colab": {
          "base_uri": "https://localhost:8080/"
        },
        "id": "e45b69bd",
        "outputId": "7634d54d-b887-4226-bfc5-f22dd5c10a42"
      },
      "source": [
        "# ---------- Preprocessing & split ----------\n",
        "from sklearn.model_selection import train_test_split\n",
        "from sklearn.preprocessing import StandardScaler\n",
        "from imblearn.over_sampling import SMOTE\n",
        "import numpy as np\n",
        "\n",
        "# Drop rows with missing values in the 'Class' column\n",
        "df.dropna(subset=['Class'], inplace=True)\n",
        "\n",
        "X = df.drop('Class', axis=1)\n",
        "y = df['Class']\n",
        "\n",
        "scaler = StandardScaler()\n",
        "X[['Time','Amount']] = scaler.fit_transform(X[['Time','Amount']])\n",
        "\n",
        "X_train, X_test, y_train, y_test = train_test_split(X, y, stratify=y, test_size=0.2, random_state=42)\n",
        "\n",
        "# Save demo stats for mapper\n",
        "demo_feature_stats = {}\n",
        "for col in [f'V{i}' for i in range(1,29)]:\n",
        "    demo_feature_stats[col] = {'mean': X_train[col].mean(), 'std': X_train[col].std()}\n",
        "\n",
        "sm = SMOTE(random_state=42)\n",
        "X_train_res, y_train_res = sm.fit_resample(X_train, y_train)\n",
        "print(\"After resample:\", np.bincount(y_train_res))"
      ],
      "execution_count": null,
      "outputs": [
        {
          "output_type": "stream",
          "name": "stdout",
          "text": [
            "After resample: [227451 227451]\n"
          ]
        }
      ]
    },
    {
      "cell_type": "markdown",
      "metadata": {
        "id": "b8a2fd87"
      },
      "source": [
        "## Model Training\n",
        "\n",
        "### Objective:\n",
        "Train an XGBoost classifier on the preprocessed and resampled training data."
      ]
    },
    {
      "cell_type": "markdown",
      "metadata": {
        "id": "f1c7cba2"
      },
      "source": [
        "**Explanation**:\n",
        "We will train an XGBoost model, which is a powerful gradient boosting algorithm. A short RandomizedSearchCV is used to find a good set of hyperparameters for the model, optimizing for ROC AUC."
      ]
    },
    {
      "cell_type": "code",
      "metadata": {
        "colab": {
          "base_uri": "https://localhost:8080/"
        },
        "id": "68b9f9a2",
        "outputId": "2b74df12-a714-48c1-9cdb-b774c3685142"
      },
      "source": [
        "# ---------- Train XGBoost with a short RandomizedSearchCV ----------\n",
        "from xgboost import XGBClassifier\n",
        "from sklearn.model_selection import RandomizedSearchCV\n",
        "from sklearn.metrics import roc_auc_score, average_precision_score\n",
        "\n",
        "xgb = XGBClassifier(eval_metric='logloss', random_state=42, n_jobs=-1)\n",
        "\n",
        "param_dist = {\n",
        "    'n_estimators': [100,200],\n",
        "    'max_depth': [3,5,7],\n",
        "    'learning_rate': [0.01, 0.05, 0.1],\n",
        "    'subsample': [0.8,1.0],\n",
        "    'colsample_bytree': [0.7,1.0],\n",
        "    'reg_lambda': [1,5]\n",
        "}\n",
        "\n",
        "rs = RandomizedSearchCV(xgb, param_dist, n_iter=12, scoring='roc_auc', cv=3, random_state=42, verbose=1, n_jobs=1)\n",
        "rs.fit(X_train_res, y_train_res)\n",
        "best = rs.best_estimator_\n",
        "print(\"Best params:\", rs.best_params_)\n",
        "\n",
        "p_test = best.predict_proba(X_test)[:,1]\n",
        "roc = roc_auc_score(y_test, p_test)\n",
        "pr_auc = average_precision_score(y_test, p_test)\n",
        "print(f\"Test ROC AUC: {roc:.4f}, PR AUC: {pr_auc:.4f}\")"
      ],
      "execution_count": null,
      "outputs": [
        {
          "output_type": "stream",
          "name": "stdout",
          "text": [
            "Fitting 3 folds for each of 12 candidates, totalling 36 fits\n",
            "Best params: {'subsample': 0.8, 'reg_lambda': 1, 'n_estimators': 200, 'max_depth': 5, 'learning_rate': 0.1, 'colsample_bytree': 1.0}\n",
            "Test ROC AUC: 0.9812, PR AUC: 0.8543\n"
          ]
        }
      ]
    },
    {
      "cell_type": "markdown",
      "metadata": {
        "id": "8d1d021d"
      },
      "source": [
        "## Model Evaluation\n",
        "\n",
        "### Objective:\n",
        "Evaluate the performance of the trained model using various metrics and visualizations."
      ]
    },
    {
      "cell_type": "markdown",
      "metadata": {
        "id": "9d75802e"
      },
      "source": [
        "**Explanation**:\n",
        "We will calculate and display key evaluation metrics including Accuracy, Precision, Recall, F1-score, and the Confusion Matrix. Additionally, we will generate ROC and Precision-Recall curves to visualize the model's performance, especially considering the imbalanced nature of the dataset."
      ]
    },
    {
      "cell_type": "markdown",
      "metadata": {
        "id": "498cda3c"
      },
      "source": [
        "### Calculate Evaluation Metrics"
      ]
    },
    {
      "cell_type": "markdown",
      "metadata": {
        "id": "4dc295ef"
      },
      "source": [
        "**Reasoning**:\n",
        "Import the necessary metrics from sklearn and calculate the accuracy, precision, recall, F1-score, and confusion matrix using the test set and the best model."
      ]
    },
    {
      "cell_type": "code",
      "metadata": {
        "colab": {
          "base_uri": "https://localhost:8080/"
        },
        "id": "f02733ad",
        "outputId": "92009fb4-ce22-4622-d208-8ad611d64b7c"
      },
      "source": [
        "# Calculate evaluation metrics\n",
        "from sklearn.metrics import accuracy_score, precision_score, recall_score, f1_score, confusion_matrix\n",
        "\n",
        "# Predict the classes for the test set\n",
        "y_pred = best.predict(X_test)\n",
        "\n",
        "# Calculate the metrics\n",
        "accuracy = accuracy_score(y_test, y_pred)\n",
        "precision = precision_score(y_test, y_pred)\n",
        "recall = recall_score(y_test, y_pred)\n",
        "f1 = f1_score(y_test, y_pred)\n",
        "conf_matrix = confusion_matrix(y_test, y_pred)\n",
        "\n",
        "# Print the metrics\n",
        "print(f\"Accuracy: {accuracy:.4f}\")\n",
        "print(f\"Precision: {precision:.4f}\")\n",
        "print(f\"Recall: {recall:.4f}\")\n",
        "print(f\"F1-score: {f1:.4f}\")\n",
        "print(\"Confusion Matrix:\")\n",
        "print(conf_matrix)"
      ],
      "execution_count": null,
      "outputs": [
        {
          "output_type": "stream",
          "name": "stdout",
          "text": [
            "Accuracy: 0.9982\n",
            "Precision: 0.4859\n",
            "Recall: 0.8776\n",
            "F1-score: 0.6255\n",
            "Confusion Matrix:\n",
            "[[56773    91]\n",
            " [   12    86]]\n"
          ]
        }
      ]
    },
    {
      "cell_type": "markdown",
      "metadata": {
        "id": "b1fef21d"
      },
      "source": [
        "### Generate ROC curve"
      ]
    },
    {
      "cell_type": "markdown",
      "metadata": {
        "id": "c3410608"
      },
      "source": [
        "**Reasoning**:\n",
        "Import `roc_curve` and `auc` from `sklearn.metrics`, and `matplotlib.pyplot` for plotting. Calculate the false positive rate (fpr), true positive rate (tpr), and the area under the ROC curve (AUC). Then, plot the ROC curve with the calculated AUC."
      ]
    },
    {
      "cell_type": "code",
      "metadata": {
        "colab": {
          "base_uri": "https://localhost:8080/"
        },
        "id": "2908ba46",
        "outputId": "fe63f342-8a24-4eb7-8a77-d43208e4aec6"
      },
      "source": [
        "# Generate ROC curve\n",
        "from sklearn.metrics import roc_curve, auc\n",
        "import matplotlib.pyplot as plt\n",
        "\n",
        "# Calculate False Positive Rate (fpr), True Positive Rate (tpr), and thresholds\n",
        "fpr, tpr, thresholds = roc_curve(y_test, p_test)\n",
        "\n",
        "# Calculate the Area Under the ROC Curve (AUC)\n",
        "roc_auc = auc(fpr, tpr)\n",
        "\n",
        "# Plot the ROC curve\n",
        "plt.figure(figsize=(8, 6))\n",
        "plt.plot(fpr, tpr, color='darkorange', lw=2, label='ROC curve (area = %0.2f)' % roc_auc)\n",
        "plt.plot([0, 1], [0, 1], color='navy', lw=2, linestyle='--') # Plot the diagonal line\n",
        "plt.xlim([0.0, 1.0])\n",
        "plt.ylim([0.0, 1.05])\n",
        "plt.xlabel('False Positive Rate')\n",
        "plt.ylabel('True Positive Rate')\n",
        "plt.title('Receiver Operating Characteristic (ROC) Curve')\n",
        "plt.legend(loc=\"lower right\")\n",
        "plt.grid(True)\n",
        "plt.show()"
      ],
      "execution_count": null,
      "outputs": [
        {
          "output_type": "display_data",
          "data": {
            "text/plain": [
              "<Figure size 800x600 with 1 Axes>"
            ],
            "image/png": "[encoded data removed]"
          },
          "metadata": {}
        }
      ]
    },
    {
      "cell_type": "markdown",
      "metadata": {
        "id": "90cd4878"
      },
      "source": [
        "### Generate Precision-Recall curve"
      ]
    },
    {
      "cell_type": "markdown",
      "metadata": {
        "id": "5b78412a"
      },
      "source": [
        "**Reasoning**:\n",
        "Import `precision_recall_curve` and `average_precision_score` from `sklearn.metrics`. Calculate precision and recall values for different thresholds. Then, plot the Precision-Recall curve and display the average precision score."
      ]
    },
    {
      "cell_type": "code",
      "metadata": {
        "colab": {
          "base_uri": "https://localhost:8080/"
        },
        "id": "c8f54514",
        "outputId": "24ca4b51-4077-4d08-d5e5-b46d1de489fc"
      },
      "source": [
        "# Generate Precision-Recall curve\n",
        "from sklearn.metrics import precision_recall_curve, average_precision_score\n",
        "import matplotlib.pyplot as plt # Import matplotlib for plotting\n",
        "\n",
        "# Calculate precision, recall, and thresholds\n",
        "precision, recall, _ = precision_recall_curve(y_test, p_test)\n",
        "\n",
        "# Calculate the Average Precision Score (APS)\n",
        "average_precision = average_precision_score(y_test, p_test)\n",
        "\n",
        "# Plot the Precision-Recall curve\n",
        "plt.figure(figsize=(8, 6))\n",
        "plt.plot(recall, precision, color='blue', lw=2, label='Precision-Recall curve (area = %0.2f)' % average_precision)\n",
        "plt.xlabel('Recall')\n",
        "plt.ylabel('Precision')\n",
        "plt.title('Precision-Recall Curve')\n",
        "plt.legend(loc=\"lower left\")\n",
        "plt.grid(True)\n",
        "plt.show()"
      ],
      "execution_count": null,
      "outputs": [
        {
          "output_type": "display_data",
          "data": {
            "text/plain": [
              "<Figure size 800x600 with 1 Axes>"
            ],
            "image/png": "[encoded data removed]"
          },
          "metadata": {}
        }
      ]
    },
    {
      "cell_type": "markdown",
      "metadata": {
        "id": "f91f500a"
      },
      "source": [
        "## Deployment Files\n",
        "\n",
        "### Objective:\n",
        "Generate the necessary files for deploying the trained model as a Flask web application."
      ]
    },
    {
      "cell_type": "markdown",
      "metadata": {
        "id": "13c4b3ae"
      },
      "source": [
        "## Deployment Files\n",
        "\n",
        "### Objective:\n",
        "Generate the necessary files for deploying the trained model as a Flask web application."
      ]
    },
    {
      "cell_type": "markdown",
      "metadata": {
        "id": "a619c75f"
      },
      "source": [
        "**Explanation**:\n",
        "After training and evaluating the model, we will generate the files required to deploy this model as a web application using Flask. This includes saving the trained model, the scaler object, and the feature statistics. We will also create Python files for the Flask application (`app.py`) and a helper function for mapping user inputs (`mapper.py`), an HTML template for the web interface (`templates/index.html`), a `requirements.txt` file listing the necessary Python packages, and a `README.md` file with instructions for running and deploying the application. All these files will be saved to your specified Google Drive folder for easy access."
      ]
    },
    {
      "cell_type": "code",
      "metadata": {
        "colab": {
          "base_uri": "https://localhost:8080/"
        },
        "id": "221f66d0",
        "outputId": "af746a1a-d27a-4e9c-f34b-d9032c22d441"
      },
      "source": [
        "# ---------- Save model bundle ----------\n",
        "import joblib\n",
        "model_bundle = {'model': best, 'scaler': scaler, 'demo_feature_stats': demo_feature_stats}\n",
        "model_bundle_path = os.path.join(drive_output_dir, 'model_bundle.joblib')\n",
        "joblib.dump(model_bundle, model_bundle_path)\n",
        "print(f\"Saved {model_bundle_path}\")\n",
        "\n",
        "# ---------- Write mapper.py (deterministic demo mapper) ----------\n",
        "mapper_code = \"\"\"\n",
        "import numpy as np\n",
        "import pandas as pd\n",
        "\n",
        "def demo_mapper(user_input, demo_feature_stats):\n",
        "    # user_input keys: amount, time_minutes, frequency_24h, transaction_type,\n",
        "    # distance_km, device_loc_risk, merchant_type, hour_of_day\n",
        "    t = float(user_input.get('time_minutes', 0.0)) * 60.0\n",
        "    merchant_map = {'Grocery':0.0, 'Online Shopping':0.8, 'Travel':1.2, 'Electronics':0.5, 'Others':0.0}\n",
        "    merchant_val = merchant_map.get(user_input.get('merchant_type','Others'), 0.0)\n",
        "    amt = float(user_input.get('amount', 0.0))\n",
        "    freq = float(user_input.get('frequency_24h', 0.0))\n",
        "    hour = float(user_input.get('hour_of_day', 12.0))\n",
        "    dlrisk = float(user_input.get('device_loc_risk', 0.0))\n",
        "    distance = float(user_input.get('distance_km', 0.0))\n",
        "    base = (amt / 100.0) + freq*0.3 + merchant_val + dlrisk*2.0 + distance/50.0 + (abs(12-hour)/12.0)\n",
        "    V = []\n",
        "    for i in range(1,29):\n",
        "        stats = demo_feature_stats.get(f'V{i}', {'mean':0.0,'std':1.0})\n",
        "        mean_i = stats['mean']\n",
        "        std_i = stats['std'] if stats['std']>0 else 1.0\n",
        "        val = mean_i + (np.sin(i + base) * (0.5 + (i%5)/5.0)) * std_i + ( (amt%100) / 100.0 - 0.5 ) * 0.2\n",
        "        V.append(val)\n",
        "    data = {'Time': [t], **{f'V{i}': [V[i-1]] for i in range(1,29)}, 'Amount': [amt]}\n",
        "    df = pd.DataFrame(data)\n",
        "    return df\n",
        "\"\"\"\n",
        "mapper_path = os.path.join(drive_output_dir, 'mapper.py')\n",
        "with open(mapper_path,'w') as f:\n",
        "    f.write(mapper_code)\n",
        "print(f\"Wrote {mapper_path}\")\n",
        "\n",
        "# ---------- Write Flask app ----------\n",
        "app_code = r\"\"\"\n",
        "from flask import Flask, render_template, request, send_file\n",
        "import joblib, io, pandas as pd\n",
        "from mapper import demo_mapper\n",
        "import os # Import os\n",
        "\n",
        "app = Flask(__name__)\n",
        "# Define the path to the model bundle relative to where the app is run\n",
        "# Assuming model_bundle.joblib is in the same directory as the app.py\n",
        "model_bundle_path = os.path.join(os.path.dirname(__file__), 'model_bundle.joblib')\n",
        "bundle = joblib.load(model_bundle_path) # Load from the relative path\n",
        "model = bundle['model']\n",
        "scaler = bundle['scaler']\n",
        "demo_feature_stats = bundle.get('demo_feature_stats', {})\n",
        "\n",
        "def predict_df(df):\n",
        "    if 'Class' in df.columns:\n",
        "        df = df.drop(columns=['Class'])\n",
        "    expected = ['Time'] + [f'V{i}' for i in range(1,29)] + ['Amount']\n",
        "    missing = [c for c in expected if c not in df.columns]\n",
        "    if missing:\n",
        "        return None, f\"Missing columns: {missing}\"\n",
        "    df[['Time','Amount']] = scaler.transform(df[['Time','Amount']])\n",
        "    probs = model.predict_proba(df[expected])[:,1]\n",
        "    df_out = df.copy()\n",
        "    df_out['fraud_prob'] = probs\n",
        "    df_out['pred_class'] = (probs >= 0.6).astype(int)\n",
        "    return df_out, None\n",
        "\n",
        "@app.route('/')\n",
        "def home():\n",
        "    return render_template('index.html')\n",
        "\n",
        "@app.route('/upload', methods=['POST'])\n",
        "def upload():\n",
        "    f = request.files.get('file')\n",
        "    df = pd.read_csv(f)\n",
        "    df_out, err = predict_df(df)\n",
        "    if err:\n",
        "        return err, 400\n",
        "    output = io.StringIO()\n",
        "    df_out.to_csv(output, index=False)\n",
        "    output.seek(0)\n",
        "    return send_file(io.BytesIO(output.getvalue().encode()), as_attachment=True, download_name='predictions.csv', mimetype='text/csv')\n",
        "\n",
        "@app.route('/predict_single', methods=['POST'])\n",
        "def predict_single():\n",
        "    trans_type = request.form.get('transaction_type','offline')\n",
        "    amount = float(request.form.get('amount',0.0))\n",
        "    time_min = float(request.form.get('time',0.0))\n",
        "    frequency = int(request.form.get('frequency',0))\n",
        "    merchant = request.form.get('merchant','Others')\n",
        "    hour_of_day = int(request.form.get('hour',12))\n",
        "    if trans_type == 'online':\n",
        "        device_loc_risk = float(request.form.get('device_loc_risk',0.0))\n",
        "        distance_km = 0.0\n",
        "    else:\n",
        "        device_loc_risk = 0.0\n",
        "        distance_km = float(request.form.get('distance_km',0.0))\n",
        "    user_input = {'amount': amount, 'time_minutes': time_min, 'frequency_24h': frequency,\n",
        "                  'transaction_type': trans_type, 'distance_km': distance_km,\n",
        "                  'device_loc_risk': device_loc_risk, 'merchant_type': merchant,\n",
        "                  'hour_of_day': hour_of_day}\n",
        "    df_demo = demo_mapper(user_input, demo_feature_stats)\n",
        "    df_demo[['Time','Amount']] = scaler.transform(df_demo[['Time','Amount']])\n",
        "    prob = float(model.predict_proba(df_demo[['Time'] + [f'V{i}' for i in range(1,29)] + ['Amount']])[0,1])\n",
        "    label = \"High Fraud Risk\" if prob >= 0.6 else \"Low Fraud Risk\"\n",
        "    advice = \"\"\n",
        "    if prob >= 0.85:\n",
        "        advice = \"Block and contact bank.\"\n",
        "    elif prob >= 0.6:\n",
        "        advice = \"Review and confirm.\"\n",
        "    else:\n",
        "        advice = \"Looks normal.\"\n",
        "    return render_template('index.html', result=label, probability=f\"{prob*100:.2f}%\", advice=advice, form_data=request.form)\n",
        "\n",
        "if __name__ == \"__main__\":\n",
        "    app.run(debug=True, host='0.0.0.0')\n",
        "\"\"\"\n",
        "app_path = os.path.join(drive_output_dir, 'app.py')\n",
        "with open(app_path,'w') as f:\n",
        "    f.write(app_code)\n",
        "print(f\"Wrote {app_path}\")\n",
        "\n",
        "# ---------- Write HTML template (templates/index.html) ----------\n",
        "html_code = r\"\"\"\n",
        "<!doctype html>\n",
        "<html lang=\"en\">\n",
        "<head>\n",
        "  <meta charset=\"utf-8\">\n",
        "  <title>Fraud Demo</title>\n",
        "  <link href=\"https://cdn.jsdelivr.net/npm/bootstrap@5.3.2/dist/css/bootstrap.min.css\" rel=\"stylesheet\">\n",
        "  <script>\n",
        "    function onTypeChange() {\n",
        "      const t = document.querySelector('input[name=\"transaction_type\"]:checked').value;\n",
        "      document.getElementById('distance_group').style.display = t==='offline' ? 'block':'none';\n",
        "      document.getElementById('device_group').style.display = t==='online' ? 'block':'none';\n",
        "    }\n",
        "    window.addEventListener('DOMContentLoaded', onTypeChange);\n",
        "  </script>\n",
        "</head>\n",
        "<body class=\"bg-light\">\n",
        "<div class=\"container mt-4\">\n",
        "  <div class=\"card p-4\">\n",
        "    <h3>Credit Card Fraud Risk Predictor — Demo</h3>\n",
        "    <form action=\"/predict_single\" method=\"post\">\n",
        "      <div>Type:\n",
        "        <label><input type=\"radio\" name=\"transaction_type\" value=\"offline\" checked onchange=\"onTypeChange()\">Offline</label>\n",
        "        <label class=\"ms-2\"><input type=\"radio\" name=\"transaction_type\" value=\"online\" onchange=\"onTypeChange()\">Online</label>\n",
        "      </div>\n",
        "      <div class=\"row mt-2\">\n",
        "        <div class=\"col-md-4\"><label>Amount (₹)</label><input class=\"form-control\" name=\"amount\" required></div>\n",
        "        <div class=\"col-md-4\"><label>Time since last txn (minutes)</label><input class=\"form-control\" name=\"time\" required></div>\n",
        "        <div class=\"col-md-4\"><label>Hour (0-23)</label><input class=\"form-control\" name=\"hour\" value=\"12\"></div>\n",
        "        <div class=\"col-md-4\"><label>Transactions in 24h</label><input class=\"form-control\" name=\"frequency\"></div>\n",
        "        <div class=\"col-md-4\" id=\"distance_group\"><label>Distance km</label><input class=\"form-control\" name=\"distance_km\"></div>\n",
        "        <div class=\"col-md-4\" id=\"device_group\" style=\"display:none\"><label>Device/Location risk (0-1)</label><input class=\"form-control\" name=\"device_loc_risk\" value=\"0\"></div>\n",
        "        <div class=\"col-md-4\"><label>Merchant</label><select class=\"form-control\" name=\"merchant\"><option>Grocery</option><option>Online Shopping</option><option>Travel</option><option>Electronics</option><option>Others</option></select></div>\n",
        "      </div>\n",
        "      <button class=\"btn btn-primary mt-3 w-100\" type=\"submit\">Check Risk</button>\n",
        "    </form>\n",
        "\n",
        "    {% if result %}\n",
        "    <div class=\"alert mt-3 {{ 'alert-danger' if 'High' in result else 'alert-success' }}\">\n",
        "      <h4>{{ result }}</h4>\n",
        "      <p>Probability: {{ probability }}</p>\n",
        "      <p>{{ advice }}</p>\n",
        "    </div>\n",
        "    {% endif %}\n",
        "\n",
        "    <hr>\n",
        "    <h5>Bulk CSV upload (bank-format)</h5>\n",
        "    <form action=\"/upload\" method=\"post\" enctype=\"multipart/form-data\">\n",
        "      <input type=\"file\" name=\"file\">\n",
        "      <button class=\"btn btn-secondary mt-2\">Upload</button>\n",
        "    </form>\n",
        "  </div>\n",
        "</div>\n",
        "</body>\n",
        "</html>\n",
        "\"\"\"\n",
        "# Create templates directory in Drive output directory\n",
        "templates_dir = os.path.join(drive_output_dir, 'templates')\n",
        "os.makedirs(templates_dir, exist_ok=True)\n",
        "html_path = os.path.join(templates_dir, 'index.html')\n",
        "with open(html_path,'w') as f:\n",
        "    f.write(html_code)\n",
        "print(f\"Wrote {html_path}\")\n",
        "\n",
        "# ---------- requirements.txt ----------\n",
        "reqs = \"flask\\njoblib\\npandas\\nscikit-learn\\nxgboost\\nimbalanced-learn\\nshap\\n\"\n",
        "reqs_path = os.path.join(drive_output_dir, 'requirements.txt')\n",
        "with open(reqs_path,'w') as f:\n",
        "    f.write(reqs)\n",
        "print(f\"Wrote {reqs_path}\")\n",
        "\n",
        "# ---------- README.md ----------\n",
        "readme = \"\"\"\n",
        "# Credit Card Fraud Detection — Demo\n",
        "\n",
        "## Authors\n",
        "- Chirag Nahata\n",
        "- Snigdha Ghosh\n",
        "- Somyadip Ghosh\n",
        "- Surybha Pal\n",
        "\n",
        "## Overview\n",
        "Train XGBoost on Kaggle `creditcard.csv`. Provide Flask demo that supports single-user (online/offline) deterministic mapping and bulk CSV upload.\n",
        "\n",
        "## Files\n",
        "- model_bundle.joblib - saved model + scaler + demo stats\n",
        "- mapper.py - deterministic demo mapper\n",
        "- app.py - Flask app\n",
        "- templates/index.html - UI template\n",
        "- requirements.txt\n",
        "\n",
        "## Run locally\n",
        "1. Ensure you have the necessary files in the same directory.\n",
        "2. python3 -m venv venv\n",
        "3. source venv/bin/activate\n",
        "4. pip install -r requirements.txt\n",
        "5. python app.py\n",
        "6. Open http://localhost:5000\n",
        "\n",
        "## Deploy\n",
        "Upload files to PythonAnywhere or similar. Ensure model_bundle.joblib, mapper.py, app.py, requirements.txt and the 'templates' folder (containing index.html) are in your project root directory.\n",
        "\n",
        "## Notes\n",
        "Demo mapping is synthetic and for presentation only.\n",
        "\"\"\"\n",
        "readme_path = os.path.join(drive_output_dir, 'README.md')\n",
        "with open(readme_path,'w') as f:\n",
        "    f.write(readme)\n",
        "print(f\"Wrote {readme_path}\")\n",
        "\n",
        "print(f\"\\nAll files written into {drive_output_dir} in your Google Drive.\")"
      ],
      "execution_count": null,
      "outputs": [
        {
          "output_type": "stream",
          "name": "stdout",
          "text": [
            "Saved /content/drive/MyDrive/Euphoria GenX Project (Credit Card Fraud Detection)/model_bundle.joblib\n",
            "Wrote /content/drive/MyDrive/Euphoria GenX Project (Credit Card Fraud Detection)/mapper.py\n",
            "Wrote /content/drive/MyDrive/Euphoria GenX Project (Credit Card Fraud Detection)/app.py\n",
            "Wrote /content/drive/MyDrive/Euphoria GenX Project (Credit Card Fraud Detection)/templates/index.html\n",
            "Wrote /content/drive/MyDrive/Euphoria GenX Project (Credit Card Fraud Detection)/requirements.txt\n",
            "Wrote /content/drive/MyDrive/Euphoria GenX Project (Credit Card Fraud Detection)/README.md\n",
            "\n",
            "All files written into /content/drive/MyDrive/Euphoria GenX Project (Credit Card Fraud Detection) in your Google Drive.\n"
          ]
        }
      ]
    }
  ]
}